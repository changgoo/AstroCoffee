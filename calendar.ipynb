{
 "cells": [
  {
   "cell_type": "code",
   "execution_count": 1,
   "metadata": {},
   "outputs": [],
   "source": [
    "%load_ext autoreload\n",
    "%autoreload 2"
   ]
  },
  {
   "cell_type": "code",
   "execution_count": 2,
   "metadata": {},
   "outputs": [],
   "source": [
    "from coffeehost import *"
   ]
  },
  {
   "cell_type": "code",
   "execution_count": 3,
   "metadata": {},
   "outputs": [],
   "source": [
    "import pandas as pd\n",
    "hostfile = './Princeton Astro Coffee Host_ Fall 2023 (Responses) - Form Responses 1.csv'\n",
    "hostlist = pd.read_csv(hostfile)"
   ]
  },
  {
   "cell_type": "code",
   "execution_count": 4,
   "metadata": {},
   "outputs": [],
   "source": [
    "hosts=Hosts()\n",
    "for n, e in zip(hostlist['Your Name'],hostlist['Email Address']):\n",
    "    h = Host(n,e)\n",
    "    hosts[h.last.lower()] = h"
   ]
  },
  {
   "cell_type": "code",
   "execution_count": 5,
   "metadata": {},
   "outputs": [],
   "source": [
    "hosts['kim'].add_restriction(date(2023,7,30),date(2023,8,5))\n",
    "hosts['kim'].add_restriction(date(2023,8,14),date(2023,9,30))\n",
    "hosts['draine'].add_restriction(date(2023,9,1),date(2023,12,31))\n",
    "hosts['mohapatra'].add_restriction(date(2023,10,5),date(2023,11,6))\n",
    "hosts['mohapatra'].add_restriction(date(2023,12,15),date(2023,12,31))\n",
    "hosts['strauss'].add_restriction(date(2023,8,7),date(2023,8,11))\n",
    "hosts['strauss'].add_restriction(date(2023,8,28),date(2023,9,1))\n",
    "hosts['escala'].add_restriction(date(2023,8,28),date(2023,9,1))\n",
    "hosts['goodman'].add_restriction(date(2023,10,10),date(2023,10,20))\n",
    "hosts['greene'].add_restriction(date(2023,7,1),date(2023,9,1))\n",
    "hosts['ward'].add_restriction(date(2023,10,1),date(2023,10,7))\n",
    "hosts['ward'].add_restriction(date(2023,11,27),date(2023,12,15))"
   ]
  },
  {
   "cell_type": "code",
   "execution_count": 6,
   "metadata": {},
   "outputs": [],
   "source": [
    "hosts.add_dates(get_weekdays(2023,7))\n",
    "hosts.add_dates(get_weekdays(2023,8))\n",
    "hosts.add_dates(get_weekdays(2023,9,exclude=['Tuesday']))"
   ]
  },
  {
   "cell_type": "code",
   "execution_count": 7,
   "metadata": {},
   "outputs": [
    {
     "name": "stdout",
     "output_type": "stream",
     "text": [
      "2023-09-29 is assigned to Chang-Goo Kim\n",
      "2023-09-29 is assigned to Rajsekhar Mohapatra\n",
      "2023-09-28 is assigned to Philipp Kempski\n",
      "2023-09-27 is assigned to Yubo Su\n",
      "2023-09-25 is assigned to Shaunak Modak\n",
      "2023-09-22 is assigned to Michael Strauss\n",
      "2023-09-21 is assigned to Ivanna Escala\n",
      "2023-09-20 is assigned to Bruce Draine\n",
      "2023-09-20 is assigned to Jeremy Goodman\n",
      "2023-09-18 is assigned to Charlotte Ward\n",
      "2023-09-15 is assigned to Jenny Greene\n",
      "2023-09-14 is assigned to Chang-Goo Kim\n",
      "2023-09-14 is assigned to Rajsekhar Mohapatra\n",
      "2023-09-13 is assigned to Philipp Kempski\n",
      "2023-09-11 is assigned to Yubo Su\n",
      "2023-09-08 is assigned to Shaunak Modak\n",
      "2023-09-07 is assigned to Michael Strauss\n",
      "2023-09-06 is assigned to Ivanna Escala\n",
      "2023-09-04 is Labor Day\n",
      "2023-09-01 is assigned to Bruce Draine\n",
      "2023-09-01 is assigned to Jeremy Goodman\n",
      "2023-08-31 is assigned to Charlotte Ward\n",
      "2023-08-30 is assigned to Jenny Greene\n",
      "2023-08-30 is assigned to Chang-Goo Kim\n",
      "2023-08-30 is assigned to Rajsekhar Mohapatra\n",
      "2023-08-29 is assigned to Philipp Kempski\n",
      "2023-08-28 is assigned to Yubo Su\n",
      "2023-08-25 is assigned to Shaunak Modak\n",
      "2023-08-24 is assigned to Michael Strauss\n",
      "2023-08-23 is assigned to Ivanna Escala\n",
      "2023-08-22 is assigned to Bruce Draine\n",
      "2023-08-21 is assigned to Jeremy Goodman\n",
      "2023-08-18 is assigned to Charlotte Ward\n",
      "2023-08-17 is assigned to Jenny Greene\n",
      "2023-08-17 is assigned to Chang-Goo Kim\n",
      "2023-08-17 is assigned to Rajsekhar Mohapatra\n",
      "2023-08-16 is assigned to Philipp Kempski\n",
      "2023-08-15 is assigned to Yubo Su\n",
      "2023-08-14 is assigned to Shaunak Modak\n",
      "2023-08-11 is assigned to Michael Strauss\n",
      "2023-08-11 is assigned to Ivanna Escala\n",
      "2023-08-10 is assigned to Bruce Draine\n",
      "2023-08-09 is assigned to Jeremy Goodman\n",
      "2023-08-08 is assigned to Charlotte Ward\n",
      "2023-08-07 is assigned to Jenny Greene\n",
      "2023-08-07 is assigned to Chang-Goo Kim\n",
      "2023-08-04 is assigned to Rajsekhar Mohapatra\n",
      "2023-08-03 is assigned to Philipp Kempski\n",
      "2023-08-02 is assigned to Yubo Su\n",
      "2023-08-01 is assigned to Shaunak Modak\n",
      "2023-07-31 is assigned to Michael Strauss\n",
      "2023-07-28 is assigned to Ivanna Escala\n",
      "2023-07-27 is assigned to Bruce Draine\n",
      "2023-07-26 is assigned to Jeremy Goodman\n",
      "2023-07-25 is assigned to Charlotte Ward\n",
      "2023-07-24 is assigned to Jenny Greene\n",
      "2023-07-24 is assigned to Chang-Goo Kim\n",
      "2023-07-21 is assigned to Rajsekhar Mohapatra\n",
      "2023-07-20 is assigned to Philipp Kempski\n",
      "2023-07-19 is assigned to Yubo Su\n",
      "2023-07-18 is assigned to Shaunak Modak\n",
      "2023-07-17 is assigned to Michael Strauss\n",
      "2023-07-14 is assigned to Ivanna Escala\n",
      "2023-07-13 is assigned to Bruce Draine\n",
      "2023-07-12 is assigned to Jeremy Goodman\n",
      "2023-07-11 is assigned to Charlotte Ward\n",
      "2023-07-10 is assigned to Jenny Greene\n",
      "2023-07-10 is assigned to Chang-Goo Kim\n",
      "2023-07-07 is assigned to Rajsekhar Mohapatra\n",
      "2023-07-06 is assigned to Philipp Kempski\n",
      "2023-07-05 is assigned to Yubo Su\n",
      "2023-07-04 is Independence Day\n",
      "2023-07-03 is assigned to Shaunak Modak\n"
     ]
    }
   ],
   "source": [
    "hosts.assign_dates()"
   ]
  },
  {
   "cell_type": "code",
   "execution_count": 8,
   "metadata": {},
   "outputs": [
    {
     "name": "stdout",
     "output_type": "stream",
     "text": [
      "Kim: 2023-07-10 2023-07-24 2023-08-07\n",
      "Mohapatra: 2023-07-07 2023-07-21 2023-08-04 2023-08-17 2023-08-30 2023-09-14 2023-09-29\n",
      "Kempski: 2023-07-06 2023-07-20 2023-08-03 2023-08-16 2023-08-29 2023-09-13 2023-09-28\n",
      "Su: 2023-07-05 2023-07-19 2023-08-02 2023-08-15 2023-08-28 2023-09-11 2023-09-27\n",
      "Modak: 2023-07-03 2023-07-18 2023-08-01 2023-08-14 2023-08-25 2023-09-08 2023-09-25\n",
      "Strauss: 2023-07-17 2023-07-31 2023-08-24 2023-09-07 2023-09-22\n",
      "Escala: 2023-07-14 2023-07-28 2023-08-11 2023-08-23 2023-09-06 2023-09-21\n",
      "Draine: 2023-07-13 2023-07-27 2023-08-10 2023-08-22\n",
      "Goodman: 2023-07-12 2023-07-26 2023-08-09 2023-08-21 2023-09-01 2023-09-20\n",
      "Ward: 2023-07-11 2023-07-25 2023-08-08 2023-08-18 2023-08-31 2023-09-18\n",
      "Greene: 2023-09-15\n"
     ]
    }
   ],
   "source": [
    "hosts.show()"
   ]
  },
  {
   "cell_type": "code",
   "execution_count": 9,
   "metadata": {},
   "outputs": [],
   "source": [
    "hosts.to_json('hosts_2023_789.json')"
   ]
  },
  {
   "cell_type": "code",
   "execution_count": 15,
   "metadata": {},
   "outputs": [],
   "source": [
    "newhosts = Hosts()"
   ]
  },
  {
   "cell_type": "code",
   "execution_count": 16,
   "metadata": {},
   "outputs": [],
   "source": [
    "newhosts.from_json('hosts_2023_789.json')"
   ]
  },
  {
   "cell_type": "code",
   "execution_count": 17,
   "metadata": {},
   "outputs": [
    {
     "name": "stdout",
     "output_type": "stream",
     "text": [
      "Kim: 2023-07-10 2023-07-24 2023-08-07\n",
      "Mohapatra: 2023-07-07 2023-07-21 2023-08-04 2023-08-24 2023-08-30 2023-09-14 2023-09-29\n",
      "Kempski: 2023-07-06 2023-07-20 2023-08-03 2023-08-16 2023-08-29 2023-09-13 2023-09-28\n",
      "Su: 2023-07-05 2023-07-19 2023-08-02 2023-08-15 2023-08-28 2023-09-11 2023-09-27\n",
      "Modak: 2023-07-03 2023-07-18 2023-08-01 2023-08-14 2023-08-25 2023-09-08 2023-09-25\n",
      "Strauss: 2023-07-17 2023-07-31 2023-08-17 2023-09-07 2023-09-22\n",
      "Escala: 2023-07-14 2023-07-28 2023-08-11 2023-08-23 2023-09-06 2023-09-21\n",
      "Draine: 2023-07-13 2023-07-27 2023-08-10 2023-08-22\n",
      "Goodman: 2023-07-12 2023-07-26 2023-08-09 2023-08-21 2023-09-01 2023-09-20\n",
      "Ward: 2023-07-11 2023-07-25 2023-08-08 2023-08-18 2023-08-31 2023-09-18\n",
      "Greene: 2023-09-15\n"
     ]
    }
   ],
   "source": [
    "newhosts.show()"
   ]
  },
  {
   "cell_type": "code",
   "execution_count": 19,
   "metadata": {},
   "outputs": [],
   "source": [
    "newhosts.output_calendar(2023,8)"
   ]
  },
  {
   "cell_type": "code",
   "execution_count": null,
   "metadata": {},
   "outputs": [],
   "source": []
  }
 ],
 "metadata": {
  "kernelspec": {
   "display_name": "usrp",
   "language": "python",
   "name": "python3"
  },
  "language_info": {
   "codemirror_mode": {
    "name": "ipython",
    "version": 3
   },
   "file_extension": ".py",
   "mimetype": "text/x-python",
   "name": "python",
   "nbconvert_exporter": "python",
   "pygments_lexer": "ipython3",
   "version": "3.11.3"
  },
  "orig_nbformat": 4
 },
 "nbformat": 4,
 "nbformat_minor": 2
}
